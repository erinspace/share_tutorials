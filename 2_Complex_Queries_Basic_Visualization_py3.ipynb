{
 "cells": [
  {
   "cell_type": "markdown",
   "metadata": {},
   "source": [
    "# Complex Queries and Basic Visualization\n",
    "\n",
    "This notebook will cover how to make more complex queries, using both basic HTTP requests and using sharepa - the SHARE parsing and analysis library.\n",
    "\n",
    "We'll also go over aggregations, or queries that will return summary statistics about the whole dataset. We'll use those aggregations to make some simple data visualizations using pandas and matplotlib."
   ]
  },
  {
   "cell_type": "markdown",
   "metadata": {},
   "source": [
    "## Setup\n",
    "\n",
    "Here we'll define a helper function and specify the SHARE API url that we'll use for querying.\n",
    "\n",
    "We'll also define another helper function to nicely print out our results."
   ]
  },
  {
   "cell_type": "code",
   "execution_count": 2,
   "metadata": {
    "collapsed": true
   },
   "outputs": [],
   "source": [
    "# Json library parses JSON from strings or files. The library parses JSON into a Python dictionary or list. \n",
    "    # It can also convert Python dictionaries or lists into JSON strings. \n",
    "    # https://docs.python.org/2.7/library/json.html\n",
    "import json\n",
    "\n",
    "# Requests library allows you to send organic, grass-fed HTTP/1.1 requests, no need to manually add query strings \n",
    "    # to your URLs, or to form-encode your POST data. Docs: http://docs.python-requests.org/en/master/\n",
    "import requests\n",
    "\n",
    "# This takes the URL and puts it into a variable (so we only need to ever reference this variable, \n",
    "    # and so we don't have to repeat adding this URL when we want to work with the data)\n",
    "SHARE_API = 'https://share.osf.io/api/v2/search/creativeworks/_search'\n",
    "\n",
    "# A helper function that will use the requests library, pass along the correct headers, and make the query we want\n",
    "def query_share(url, query):\n",
    "    headers = {'Content-Type': 'application/json'}\n",
    "    data = json.dumps(query)\n",
    "    return requests.post(url, headers=headers, data=data, verify=False).json()"
   ]
  },
  {
   "cell_type": "code",
   "execution_count": 3,
   "metadata": {
    "collapsed": true
   },
   "outputs": [],
   "source": [
    "# A function that prints out the results in a numbered list\n",
    "def print_numbered_results(results):\n",
    "    print(\n",
    "        'There are {} total results and {} results on this page'.format(\n",
    "            results['hits']['total'],\n",
    "            len(results['hits']['hits'])\n",
    "        )\n",
    "    )\n",
    "    print('---------------')    \n",
    "    for result in enumerate(results['hits']['hits']):\n",
    "        print('{}. {}'.format(result[0] + 1, result[1]['_source']['title']))"
   ]
  },
  {
   "cell_type": "markdown",
   "metadata": {},
   "source": [
    "## Complex Queries\n",
    "\n",
    "### Pagination\n",
    "\n",
    "One request to the SHARE API will return just 10 results by default. To get more results, you can use the \"size\" parameter in your request, or paginate through the results you get back."
   ]
  },
  {
   "cell_type": "code",
   "execution_count": 4,
   "metadata": {
    "collapsed": false
   },
   "outputs": [
    {
     "name": "stdout",
     "output_type": "stream",
     "text": [
      "There are 429 total results and 10 results on this page\n",
      "---------------\n",
      "1. Frogs mount speedy defence against pesticide threat\n",
      "2. Behavioural ecology: Fungus makes tree frogs sing\n",
      "3. Abundance of Green Tree Frogs and Insects in Artificial  Canopy Gaps in a Bottomland Hardwood Forest.\n",
      "4. Representative two-color flow cytometry analysis of splenocytes from uninfected control frogs (A), and frogs infected for 6 days (B)\n",
      "5. <p>Total annual biomass (g) of recaptured breeding wood frogs at 11 vernal pools in east-central Maine, USA.</p>\n",
      "6. Boiling Frogs and Burning Out\n",
      "7. Birds and Frogs: Selected Papers, 1990–2014\n",
      "8. Zoology: Venomous frogs headbutt foe\n",
      "9. Evolution: Wooing frogs are bat bait\n",
      "10. Marsupial frogs: Gastrotheca & allied genera\n"
     ]
    },
    {
     "name": "stderr",
     "output_type": "stream",
     "text": [
      "/home/vicky/miniconda3/envs/share_tutorials/lib/python3.5/site-packages/requests/packages/urllib3/connectionpool.py:821: InsecureRequestWarning: Unverified HTTPS request is being made. Adding certificate verification is strongly advised. See: https://urllib3.readthedocs.org/en/latest/security.html\n",
      "  InsecureRequestWarning)\n"
     ]
    }
   ],
   "source": [
    "# We are setting up a query for items in the SHARE dataset that have the keyword \"frogs\"\n",
    "basic_query = {\n",
    "    \"query\": {\n",
    "        \"query_string\": {\n",
    "            \"query\": \"frogs\"\n",
    "        }\n",
    "    }\n",
    "}\n",
    "\n",
    "#this puts the results of querying SHARE_API with what we outlined in basic_query (frogs)\n",
    "query_results = query_share(SHARE_API, basic_query)\n",
    "\n",
    "#print out the numbered list of the results\n",
    "print_numbered_results(query_results)"
   ]
  },
  {
   "cell_type": "markdown",
   "metadata": {},
   "source": [
    "We can get more results either by changing the number of results returned, or by paginating through the results.\n",
    "\n",
    "First, we'll return 20 results by specifying the size in our query."
   ]
  },
  {
   "cell_type": "code",
   "execution_count": 5,
   "metadata": {
    "collapsed": false
   },
   "outputs": [
    {
     "name": "stdout",
     "output_type": "stream",
     "text": [
      "There are 429 total results and 20 results on this page\n",
      "---------------\n",
      "1. Frogs mount speedy defence against pesticide threat\n",
      "2. Behavioural ecology: Fungus makes tree frogs sing\n",
      "3. Abundance of Green Tree Frogs and Insects in Artificial  Canopy Gaps in a Bottomland Hardwood Forest.\n",
      "4. Representative two-color flow cytometry analysis of splenocytes from uninfected control frogs (A), and frogs infected for 6 days (B)\n",
      "5. <p>Total annual biomass (g) of recaptured breeding wood frogs at 11 vernal pools in east-central Maine, USA.</p>\n",
      "6. Boiling Frogs and Burning Out\n",
      "7. Birds and Frogs: Selected Papers, 1990–2014\n",
      "8. Zoology: Venomous frogs headbutt foe\n",
      "9. Evolution: Wooing frogs are bat bait\n",
      "10. Marsupial frogs: Gastrotheca & allied genera\n",
      "11. Representative two-color flow cytometry analysis of splenocytes from uninfected control frogs (A), and frogs infected for 6 days (B)\n",
      "12. Residues of Polybrominated Diphenyl Ethers in Frogs (<i>Rana limnocharis</i>) from a Contaminated Site, South China: Tissue Distribution, Biomagnification, and Maternal Transfer\n",
      "13. RAY CATARACT IN THE LENS OF THE EYE CAUSED BY WOUNDING AFTER X-IRRADIATION\n",
      "14. An Endogenous Bile Acid\n",
      "and Dietary Sucrose from Skin Secretions of Alkaloid-Sequestering\n",
      "Poison Frogs\n",
      "15. Polychlorinated biphenyls and chlorinated pesticides in southern Ontario, Canada, green frogs\n",
      "16. <p>Optional Endoreplication and Selective Elimination of Parental Genomes during Oogenesis in Diploid and Triploid Hybrid European Water Frogs</p>\n",
      "17. Abundance of green tree frogs and insects in artificial canopy gaps in a bottomland hardwood forest.\n",
      "18. <i>Frankixalus</i>, a New Rhacophorid Genus of Tree Hole Breeding Frogs with Oophagous Tadpoles\n",
      "19. Natural levels of abnormalities in the trilling frog (neobactrachus centralis) at the Olympic dam mine\n",
      "20. Extremely Abundant Antimicrobial Peptides Existed in the Skins of Nine Kinds of Chinese Odorous Frogs\n"
     ]
    },
    {
     "name": "stderr",
     "output_type": "stream",
     "text": [
      "/home/vicky/miniconda3/envs/share_tutorials/lib/python3.5/site-packages/requests/packages/urllib3/connectionpool.py:821: InsecureRequestWarning: Unverified HTTPS request is being made. Adding certificate verification is strongly advised. See: https://urllib3.readthedocs.org/en/latest/security.html\n",
      "  InsecureRequestWarning)\n"
     ]
    }
   ],
   "source": [
    "# We are setting up a query for items in the SHARE dataset that have the keyword \"frogs\" but limiting the \n",
    "    # results to 20 items\n",
    "basic_query = {\n",
    "    \"query\": {\n",
    "        \"query_string\": {\n",
    "            \"query\": \"frogs\"\n",
    "        }\n",
    "    },\n",
    "    \"size\": 20\n",
    "}\n",
    "\n",
    "# this puts the results of querying SHARE_API with what we outlined in basic_query (frogs)\n",
    "query_results = query_share(SHARE_API, basic_query)\n",
    "\n",
    "# print out the numbered list of the results\n",
    "print_numbered_results(query_results)"
   ]
  },
  {
   "cell_type": "markdown",
   "metadata": {},
   "source": [
    "We can also paginate through results by specifying the place to start in all of the results."
   ]
  },
  {
   "cell_type": "code",
   "execution_count": 6,
   "metadata": {
    "collapsed": false
   },
   "outputs": [
    {
     "name": "stdout",
     "output_type": "stream",
     "text": [
      "There are 429 total results and 10 results on this page\n",
      "---------------\n",
      "1. Frogs mount speedy defence against pesticide threat\n",
      "2. Behavioural ecology: Fungus makes tree frogs sing\n",
      "3. Abundance of Green Tree Frogs and Insects in Artificial  Canopy Gaps in a Bottomland Hardwood Forest.\n",
      "4. Representative two-color flow cytometry analysis of splenocytes from uninfected control frogs (A), and frogs infected for 6 days (B)\n",
      "5. <p>Total annual biomass (g) of recaptured breeding wood frogs at 11 vernal pools in east-central Maine, USA.</p>\n",
      "6. Boiling Frogs and Burning Out\n",
      "7. Birds and Frogs: Selected Papers, 1990–2014\n",
      "8. Zoology: Venomous frogs headbutt foe\n",
      "9. Evolution: Wooing frogs are bat bait\n",
      "10. Marsupial frogs: Gastrotheca & allied genera\n",
      "------------------------------------------\n",
      "*** Making another query for the next page ***\n",
      "*** These next titles will be different! ***\n",
      "------------------------------------------\n",
      "There are 429 total results and 10 results on this page\n",
      "---------------\n",
      "1. Representative two-color flow cytometry analysis of splenocytes from uninfected control frogs (A), and frogs infected for 6 days (B)\n",
      "2. Residues of Polybrominated Diphenyl Ethers in Frogs (<i>Rana limnocharis</i>) from a Contaminated Site, South China: Tissue Distribution, Biomagnification, and Maternal Transfer\n",
      "3. RAY CATARACT IN THE LENS OF THE EYE CAUSED BY WOUNDING AFTER X-IRRADIATION\n",
      "4. An Endogenous Bile Acid\n",
      "and Dietary Sucrose from Skin Secretions of Alkaloid-Sequestering\n",
      "Poison Frogs\n",
      "5. Polychlorinated biphenyls and chlorinated pesticides in southern Ontario, Canada, green frogs\n",
      "6. <p>Optional Endoreplication and Selective Elimination of Parental Genomes during Oogenesis in Diploid and Triploid Hybrid European Water Frogs</p>\n",
      "7. Abundance of green tree frogs and insects in artificial canopy gaps in a bottomland hardwood forest.\n",
      "8. <i>Frankixalus</i>, a New Rhacophorid Genus of Tree Hole Breeding Frogs with Oophagous Tadpoles\n",
      "9. Natural levels of abnormalities in the trilling frog (neobactrachus centralis) at the Olympic dam mine\n",
      "10. Extremely Abundant Antimicrobial Peptides Existed in the Skins of Nine Kinds of Chinese Odorous Frogs\n"
     ]
    },
    {
     "name": "stderr",
     "output_type": "stream",
     "text": [
      "/home/vicky/miniconda3/envs/share_tutorials/lib/python3.5/site-packages/requests/packages/urllib3/connectionpool.py:821: InsecureRequestWarning: Unverified HTTPS request is being made. Adding certificate verification is strongly advised. See: https://urllib3.readthedocs.org/en/latest/security.html\n",
      "  InsecureRequestWarning)\n",
      "/home/vicky/miniconda3/envs/share_tutorials/lib/python3.5/site-packages/requests/packages/urllib3/connectionpool.py:821: InsecureRequestWarning: Unverified HTTPS request is being made. Adding certificate verification is strongly advised. See: https://urllib3.readthedocs.org/en/latest/security.html\n",
      "  InsecureRequestWarning)\n"
     ]
    }
   ],
   "source": [
    "# We are setting up a query for items in the SHARE dataset that have the keyword \"frogs\" \n",
    "basic_query = {\n",
    "    \"query\": {\n",
    "        \"query_string\": {\n",
    "            \"query\": \"frogs\"\n",
    "        }\n",
    "    }\n",
    "}\n",
    "\n",
    "# creates a list of the first 10 results from the search query \"frogs\"\n",
    "query_results = query_share(SHARE_API, basic_query)\n",
    "\n",
    "# print the results of the search we made in a numbered list\n",
    "print_numbered_results(query_results)\n",
    "\n",
    "# make it visually pretty and readable for us humans\n",
    "print('------------------------------------------')\n",
    "print('*** Making another query for the next page ***')\n",
    "print('*** These next titles will be different! ***')\n",
    "print('------------------------------------------')\n",
    "\n",
    "basic_query['from'] = 10  # Add the 'from' parameter to the query to pick up at the next page of results\n",
    "\n",
    "# creates a list of the next 10 results \n",
    "query_results = query_share(SHARE_API, basic_query)\n",
    "\n",
    "# print the results of the search we made in a numbered list\n",
    "print_numbered_results(query_results)"
   ]
  },
  {
   "cell_type": "markdown",
   "metadata": {},
   "source": [
    "### Pagination with sharepa\n",
    "\n",
    "You can also use sharepa to paginate through all of the results in your query, and to access slices of your query at any time. The ShareSearch object returns a generator that you can use to access all results, using slices.\n",
    "\n",
    "First, we'll redefine our helper function for nicer printing with data returned from sharepa."
   ]
  },
  {
   "cell_type": "code",
   "execution_count": 11,
   "metadata": {
    "collapsed": true
   },
   "outputs": [],
   "source": [
    "# this is a function that helps us print the lists with pagination between results (10, next 10, etc.)\n",
    "def print_numbered_sharepa_results(search_obj):\n",
    "    results = search_obj.execute()\n",
    "    print(\n",
    "        'There are {} total results and {} results on this page'.format(\n",
    "            search_obj.count(),\n",
    "            len(results.hits)\n",
    "        )\n",
    "    )\n",
    "    print('---------------')    \n",
    "    for result in enumerate(results.hits):\n",
    "        print('{}. {}'.format(result[0] + 1, result[1]['title']))"
   ]
  },
  {
   "cell_type": "code",
   "execution_count": 12,
   "metadata": {
    "collapsed": false
   },
   "outputs": [],
   "source": [
    "# Sharepa is a python client for  browsing and analyzing SHARE data specifically using elasticsearch querying.\n",
    "    # We can use this to aggregate, graph, and analyze the data. \n",
    "    # Helpful Links:\n",
    "        # https://github.com/CenterForOpenScience/sharepa\n",
    "        # https://pypi.python.org/pypi/sharepa\n",
    "    # here, we import the specific function from Sharepa called ShareSearch and pretty_print\n",
    "from sharepa import ShareSearch\n",
    "from sharepa.helpers import pretty_print\n",
    "\n",
    "# we are creating a new local search!\n",
    "frogs_search = ShareSearch()\n",
    "\n",
    "# this sets up what we will actually search for -- keyword \"frogs\"\n",
    "frogs_search = frogs_search.query(\n",
    "    'query_string',\n",
    "    query='frogs'\n",
    ")"
   ]
  },
  {
   "cell_type": "code",
   "execution_count": 9,
   "metadata": {
    "collapsed": false,
    "scrolled": true
   },
   "outputs": [
    {
     "name": "stdout",
     "output_type": "stream",
     "text": [
      "There are 1303 total results and 10 results on this page\n",
      "---------------\n",
      "1. Herpetology Collection - Royal Ontario Museum\n",
      "2. Herpetology Collection - Royal Ontario Museum\n",
      "3. On a collection of reptiles and frogs chiefly from Singapore.\n",
      "4. Effects of nonlethal predation and competition on life-history characteristics and behavior of larval Oregon spotted frog (Rana pretiosa) and larval red-legged frog (Rana aurora)\n",
      "5. Differences in foraging habits during the day and night time in the green frog, Rana clamitans.\n",
      "6. Calling activity of Eleutherodactylus frogs of Puerto Rico and habitat distribution of E. richmondi\n",
      "7. Evaluating group housing strategies for the ex-situ conservation of harlequin frogs (Atelopus spp.) using behavioral and physiological indicators\n",
      "8. Calling activity of Eleutherodactylus frogs of Puerto Rico and habitat distribution of E. richmondi\n",
      "9. <p>Total annual biomass (g) of recaptured breeding wood frogs at 11 vernal pools in east-central Maine, USA.</p>\n",
      "10. Correction: A Novel Reproductive Mode in Frogs: A New Species of Fanged Frog with Internal Fertilization and Birth of Tadpoles\n"
     ]
    }
   ],
   "source": [
    "# print the results of the search we made for \"frogs\" keyword in a numbered list\n",
    "print_numbered_sharepa_results(frogs_search)"
   ]
  },
  {
   "cell_type": "code",
   "execution_count": 10,
   "metadata": {
    "collapsed": false
   },
   "outputs": [
    {
     "name": "stdout",
     "output_type": "stream",
     "text": [
      "There are 1303 total results and 10 results on this page\n",
      "---------------\n",
      "1. Fatigue and work capacity of muscles from frogs treated with male sex hormone\n",
      "2. The frog book; North American toads and frogs, with a study of the habits and life histories of those of the northeastern states. \n",
      "3. Condition-dependent reproductive effort in frogs infected by a widespread pathogen\n",
      "4. Physiologische studien über die Hemmungsmechanismen für die reflexthätigkeit des Rückenmarks im gehirne des Frosches / \n",
      "5. Overwintering of Columbia spotted frogs in northeastern Oregon\n",
      "6. Mycobacterium liflandii Outbreak in a Research Colony of Xenopus (Silurana) tropicalis Frogs\n",
      "7. <i>Frankixalus</i>, a New Rhacophorid Genus of Tree Hole Breeding Frogs with Oophagous Tadpoles\n",
      "8. Residues of Polybrominated Diphenyl Ethers in Frogs (<i>Rana limnocharis</i>) from a Contaminated Site, South China: Tissue Distribution, Biomagnification, and Maternal Transfer\n",
      "9. Cryoprotectants and Extreme Freeze Tolerance in a Subarctic Population of the Wood Frog\n",
      "10. THE EFFECT OF A LOW TEMPERATURE ON THE DEVELOPMENT OF RADIATION INJURY IN FROGS\n"
     ]
    }
   ],
   "source": [
    "# print the 10th - 20th results of the search we made for \"frogs\" keyword in a numbered list\n",
    "print_numbered_sharepa_results(frogs_search[10:20])"
   ]
  },
  {
   "cell_type": "markdown",
   "metadata": {},
   "source": [
    "### Aggregations\n",
    "\n",
    "While searching for individual results is useful, sharepa also lets you make aggregation queries that give you results across the entirety of the SHARE dataset at once. This is useful if you're curious about the completeness of data sets.\n",
    "\n",
    "For example, we can find the number of documents per source that are missing tags."
   ]
  },
  {
   "cell_type": "code",
   "execution_count": null,
   "metadata": {
    "collapsed": false
   },
   "outputs": [],
   "source": [
    "# this aggregates the number of documents that have no tags, per source, using query boolean (not tags) while also \n",
    "    # grabbing all sources in the aggregations: sources below\n",
    "missing_tags_aggregation = {\n",
    "    \"query\": {\n",
    "        \"bool\": {\n",
    "            \"must_not\": {\n",
    "                \"exists\": {\n",
    "                    \"field\": \"tags\"\n",
    "                  }\n",
    "            }\n",
    "        }\n",
    "    },\n",
    "    \"aggregations\": {\n",
    "        \"sources\": {\n",
    "            \"terms\": {\n",
    "                \"field\": \"sources\", # A field where the SHARE source is stored                \n",
    "                \"min_doc_count\": 0, \n",
    "                \"size\": 0  # Will return all sources, regardless if there are results\n",
    "            }\n",
    "        }\n",
    "    }\n",
    "}"
   ]
  },
  {
   "cell_type": "code",
   "execution_count": null,
   "metadata": {
    "collapsed": false
   },
   "outputs": [],
   "source": [
    "# puts all the items without tags into a list\n",
    "results_without_tags = query_share(SHARE_API, missing_tags_aggregation)\n",
    "\n",
    "# counts the number of items without tags\n",
    "missing_tags_counts = results_without_tags['aggregations']['sources']['buckets']\n",
    "\n",
    "# this prints out the number of documents with missing tags, separated by sources\n",
    "for source in missing_tags_counts:\n",
    "    print('{} has {} documents without tags'.format(source['key'], source['doc_count'], ))"
   ]
  },
  {
   "cell_type": "markdown",
   "metadata": {},
   "source": [
    "This information isn't terribly useful if we don't also know how many documents are in each source.\n",
    "\n",
    "Let's get that information as well, along stats for what percentage of documents from each source are missing titles. \n",
    "\n",
    "We'll do this with an elasticsearch \"sigificant terms\" aggregation. We're only interested in results that have 1 document or more, meaning all documents from the other sources have titles."
   ]
  },
  {
   "cell_type": "code",
   "execution_count": null,
   "metadata": {
    "collapsed": true
   },
   "outputs": [],
   "source": [
    "# this does the same as above, but adds the percentage of documents missing tags from the total number of documents\n",
    "    # per source\n",
    "no_tags_query = {\n",
    "    \"query\": {\n",
    "        \"bool\": {\n",
    "            \"must_not\": {\n",
    "                \"exists\": {\n",
    "                    \"field\": \"tags\"\n",
    "                  }\n",
    "            }\n",
    "        }\n",
    "    },\n",
    "    \"aggs\": {\n",
    "        \"sources\":{\n",
    "            \"significant_terms\":{\n",
    "                \"field\": \"sources\", # A field where the SHARE source is stored                \n",
    "                \"min_doc_count\": 0, \n",
    "                \"size\": 0,  # Will return all sources, regardless if there are results\n",
    "                \"percentage\": {} # This will make the \"score\" parameter a percentage\n",
    "            }\n",
    "        }\n",
    "    }\n",
    "}"
   ]
  },
  {
   "cell_type": "code",
   "execution_count": null,
   "metadata": {
    "collapsed": false
   },
   "outputs": [],
   "source": [
    "# creates a list of the documents with no tags\n",
    "docs_with_no_tags_results = query_share(SHARE_API, no_tags_query)\n",
    "\n",
    "#creates a dictionary that shows the results of the search along with the aggregations we outlined above\n",
    "docs_with_no_tags = docs_with_no_tags_results['aggregations']['sources']['buckets']"
   ]
  },
  {
   "cell_type": "code",
   "execution_count": null,
   "metadata": {
    "collapsed": false
   },
   "outputs": [],
   "source": [
    "# this prints out the number of documents with missing tags, separated by sources, with the percentage that makes up\n",
    "    # the total number of documents for each source\n",
    "for source in docs_with_no_tags:\n",
    "    print(\n",
    "        '{}% (or {}/{}) of documents from {} have no tags'.format(\n",
    "            format(source['score']*100, '.2f'),\n",
    "            source['doc_count'],\n",
    "            source['bg_count'],\n",
    "            source['key']\n",
    "        )\n",
    "    )"
   ]
  },
  {
   "cell_type": "markdown",
   "metadata": {},
   "source": [
    "#### Aggregations with sharepa\n",
    "\n",
    "You can also use sharepa to do aggregations.\n",
    "\n",
    "Let's make a sharepa search object that will give us the number of documents per sourcethat don't have language specified."
   ]
  },
  {
   "cell_type": "code",
   "execution_count": null,
   "metadata": {
    "collapsed": false
   },
   "outputs": [],
   "source": [
    "# yay! creating another new search! \n",
    "no_language_search = ShareSearch()\n",
    "\n",
    "# this sets up our search query: all documents with no language field\n",
    "no_language_search = no_language_search.query(\n",
    "    'bool',\n",
    "    must_not={\"exists\": {\"field\": \"language\"}}\n",
    ")\n",
    "\n",
    "no_language_search.aggs.bucket(\n",
    "    'sources',  # Every aggregation needs a name\n",
    "    'significant_terms',  # There are many kinds of aggregations\n",
    "    field='sources',  # We store the source of a document in its type, so this will aggregate by source\n",
    "    min_doc_count=1,\n",
    "    percentage={},\n",
    "    size=0\n",
    ")"
   ]
  },
  {
   "cell_type": "markdown",
   "metadata": {},
   "source": [
    "We can see which query is actually going to be sent to elasticsearch by printing out the query. This is very similar to the queries we were defining by hand up above."
   ]
  },
  {
   "cell_type": "code",
   "execution_count": null,
   "metadata": {
    "collapsed": false,
    "scrolled": true
   },
   "outputs": [],
   "source": [
    "# print (prettily!) the items grabbed the search that have no language field\n",
    "pretty_print(no_language_search.to_dict())"
   ]
  },
  {
   "cell_type": "code",
   "execution_count": null,
   "metadata": {
    "collapsed": false
   },
   "outputs": [],
   "source": [
    "# here we grab the results of items that have no language field + their sources and significant terms\n",
    "aggregated_results = no_language_search.execute()\n",
    "\n",
    "# this prints out the percentage of items that don't have a language field\n",
    "for source in aggregated_results.aggregations['sources']['buckets']:\n",
    "    print(\n",
    "        '{}% of documents from {} do not have language'.format(\n",
    "            format(source['score']*100, '.2f'),\n",
    "            source['key'] \n",
    "        )\n",
    "    )"
   ]
  },
  {
   "cell_type": "markdown",
   "metadata": {},
   "source": [
    "### Top tags \n",
    "\n",
    "Let's do an elasticsearch query to find out what the most used tags are used in the dataset across all sources."
   ]
  },
  {
   "cell_type": "code",
   "execution_count": 14,
   "metadata": {
    "collapsed": false
   },
   "outputs": [
    {
     "name": "stdout",
     "output_type": "stream",
     "text": [
      "[\n",
      "    {\n",
      "        \"key\": \"journal\",\n",
      "        \"doc_count\": 143877\n",
      "    },\n",
      "    {\n",
      "        \"key\": \"science\",\n",
      "        \"doc_count\": 95645\n",
      "    },\n",
      "    {\n",
      "        \"key\": \"all\",\n",
      "        \"doc_count\": 91333\n",
      "    },\n",
      "    {\n",
      "        \"key\": \"j\",\n",
      "        \"doc_count\": 82511\n",
      "    },\n",
      "    {\n",
      "        \"key\": \"medicine\",\n",
      "        \"doc_count\": 68313\n",
      "    },\n",
      "    {\n",
      "        \"key\": \"research\",\n",
      "        \"doc_count\": 53404\n",
      "    },\n",
      "    {\n",
      "        \"key\": \"engineering\",\n",
      "        \"doc_count\": 49775\n",
      "    },\n",
      "    {\n",
      "        \"key\": \"the\",\n",
      "        \"doc_count\": 47455\n",
      "    },\n",
      "    {\n",
      "        \"key\": \"chemistry\",\n",
      "        \"doc_count\": 45017\n",
      "    },\n",
      "    {\n",
      "        \"key\": \"health\",\n",
      "        \"doc_count\": 44403\n",
      "    }\n",
      "]\n"
     ]
    }
   ],
   "source": [
    "# creating another new search!\n",
    "top_tag_search = ShareSearch()\n",
    "\n",
    "# this sets up our search query with the aggregations\n",
    "top_tag_search.aggs.bucket(\n",
    "    'tagsTermFilter',  # Every aggregation needs a name\n",
    "    'terms',  # There are many kinds of aggregations\n",
    "    field='tags',  # We store the source of a document in its type, so this will aggregate by source\n",
    "    min_doc_count=1,\n",
    "    exclude= \"of|and|or\",\n",
    "    size=10\n",
    ")\n",
    "\n",
    "# pretty_print(top_tag_search.to_dict())\n",
    "\n",
    "# this executes the search as we've outlined it above\n",
    "top_tag_results_executed = top_tag_search.execute()\n",
    "\n",
    "# this places the results of the search into this dictionary\n",
    "top_tag_results = top_tag_results_executed.aggregations.tagsTermFilter.to_dict()['buckets']\n",
    "\n",
    "# this prints out our search results (prettily)\n",
    "pretty_print(top_tag_results)"
   ]
  },
  {
   "cell_type": "markdown",
   "metadata": {},
   "source": [
    "## Basic Plotting\n",
    "\n",
    "Sharepa has some basic functions to get you started making plots using matplotlib and pandas.\n",
    "\n",
    "### Creating a dataframe from sharepa data\n",
    "\n",
    "Raw sharepa data is in the same format as elasticsearch results, represented as a nested structure. To convert the data into a format that pandas can recognize, we have to convert it into a dataframe.\n",
    "\n",
    "Let's take our top tags aggregation, make it into a pandas data frame, and plot a bar graph. Then, we'll plot the results."
   ]
  },
  {
   "cell_type": "code",
   "execution_count": 15,
   "metadata": {
    "collapsed": false
   },
   "outputs": [
    {
     "data": {
      "text/html": [
       "<div>\n",
       "<table border=\"1\" class=\"dataframe\">\n",
       "  <thead>\n",
       "    <tr style=\"text-align: right;\">\n",
       "      <th></th>\n",
       "      <th>doc_count</th>\n",
       "      <th>key</th>\n",
       "    </tr>\n",
       "  </thead>\n",
       "  <tbody>\n",
       "    <tr>\n",
       "      <th>0</th>\n",
       "      <td>143877</td>\n",
       "      <td>journal</td>\n",
       "    </tr>\n",
       "    <tr>\n",
       "      <th>1</th>\n",
       "      <td>95645</td>\n",
       "      <td>science</td>\n",
       "    </tr>\n",
       "    <tr>\n",
       "      <th>2</th>\n",
       "      <td>91333</td>\n",
       "      <td>all</td>\n",
       "    </tr>\n",
       "    <tr>\n",
       "      <th>3</th>\n",
       "      <td>82511</td>\n",
       "      <td>j</td>\n",
       "    </tr>\n",
       "    <tr>\n",
       "      <th>4</th>\n",
       "      <td>68313</td>\n",
       "      <td>medicine</td>\n",
       "    </tr>\n",
       "    <tr>\n",
       "      <th>5</th>\n",
       "      <td>53404</td>\n",
       "      <td>research</td>\n",
       "    </tr>\n",
       "    <tr>\n",
       "      <th>6</th>\n",
       "      <td>49775</td>\n",
       "      <td>engineering</td>\n",
       "    </tr>\n",
       "    <tr>\n",
       "      <th>7</th>\n",
       "      <td>47455</td>\n",
       "      <td>the</td>\n",
       "    </tr>\n",
       "    <tr>\n",
       "      <th>8</th>\n",
       "      <td>45017</td>\n",
       "      <td>chemistry</td>\n",
       "    </tr>\n",
       "    <tr>\n",
       "      <th>9</th>\n",
       "      <td>44403</td>\n",
       "      <td>health</td>\n",
       "    </tr>\n",
       "  </tbody>\n",
       "</table>\n",
       "</div>"
      ],
      "text/plain": [
       "   doc_count          key\n",
       "0     143877      journal\n",
       "1      95645      science\n",
       "2      91333          all\n",
       "3      82511            j\n",
       "4      68313     medicine\n",
       "5      53404     research\n",
       "6      49775  engineering\n",
       "7      47455          the\n",
       "8      45017    chemistry\n",
       "9      44403       health"
      ]
     },
     "execution_count": 15,
     "metadata": {},
     "output_type": "execute_result"
    }
   ],
   "source": [
    "# Pandas is a python library that is used for data manipulation and analysis -- good for numbers + time series.\n",
    "    # Pandas gives us some extra data structures (arrays are data structures, for example) which is nice\n",
    "    # We are calling Pandas pd by using the \"as\" -- locally, we know Pandas as pd\n",
    "    # Helpful Links:\n",
    "        # https://en.wikipedia.org/wiki/Pandas_(software)\n",
    "        # http://pandas.pydata.org/ \n",
    "import pandas as pd\n",
    "\n",
    "# this transforms our results from the cell above into a dataframe\n",
    "top_tags_dataframe = pd.DataFrame(top_tag_results)\n",
    "\n",
    "#this prints out our dataframe -- looks like a nice table!\n",
    "top_tags_dataframe"
   ]
  },
  {
   "cell_type": "code",
   "execution_count": 17,
   "metadata": {
    "collapsed": false
   },
   "outputs": [
    {
     "data": {
      "image/png": "[encoded data removed]",
      "text/plain": [
       "<matplotlib.figure.Figure at 0x7f45a76c7160>"
      ]
     },
     "metadata": {},
     "output_type": "display_data"
    }
   ],
   "source": [
    "# Matplot lib is a a python 2D plotting library which produces publication quality figures in a variety of hardcopy\n",
    "    # formats and interactive environments across platforms. \n",
    "    # Read more about Matplotlib here: http://matplotlib.org/\n",
    "from matplotlib import pyplot\n",
    "\n",
    "# this is used specifically with iPython notebooks to display the matplotlib chart or graph in the notebook\n",
    "%matplotlib inline\n",
    "\n",
    "#this takes our results dictionary from the cell above and plots them into a bar chart\n",
    "top_tags_dataframe.plot(kind='bar', x='key', y='doc_count')\n",
    "\n",
    "# this prints out the bar chart we just made!\n",
    "pyplot.show()"
   ]
  },
  {
   "cell_type": "markdown",
   "metadata": {},
   "source": [
    "### Complex Queries and Dataframes\n",
    "\n",
    "Let's plot the number of document that each source has. We'll limit it to the top 30 sources to make sure that the graph is readable. Here we'll use the sharepa helper function bucket_to_dataframe()"
   ]
  },
  {
   "cell_type": "code",
   "execution_count": 18,
   "metadata": {
    "collapsed": false
   },
   "outputs": [
    {
     "name": "stderr",
     "output_type": "stream",
     "text": [
      "/home/vicky/miniconda3/envs/share_tutorials/lib/python3.5/site-packages/ipykernel/__main__.py:30: FutureWarning: sort(columns=....) is deprecated, use sort_values(by=.....)\n"
     ]
    },
    {
     "ename": "TypeError",
     "evalue": "Empty 'DataFrame': no numeric data to plot",
     "output_type": "error",
     "traceback": [
      "\u001b[0;31m---------------------------------------------------------------------------\u001b[0m",
      "\u001b[0;31mTypeError\u001b[0m                                 Traceback (most recent call last)",
      "\u001b[0;32m<ipython-input-18-7030efbea6a6>\u001b[0m in \u001b[0;36m<module>\u001b[0;34m()\u001b[0m\n\u001b[1;32m     31\u001b[0m \u001b[0;34m\u001b[0m\u001b[0m\n\u001b[1;32m     32\u001b[0m \u001b[0;31m# this creates a bar chart\u001b[0m\u001b[0;34m\u001b[0m\u001b[0;34m\u001b[0m\u001b[0m\n\u001b[0;32m---> 33\u001b[0;31m \u001b[0mall_results_frame_sorted\u001b[0m\u001b[0;34m[\u001b[0m\u001b[0;34m:\u001b[0m\u001b[0;36m30\u001b[0m\u001b[0;34m]\u001b[0m\u001b[0;34m.\u001b[0m\u001b[0mplot\u001b[0m\u001b[0;34m(\u001b[0m\u001b[0mkind\u001b[0m\u001b[0;34m=\u001b[0m\u001b[0;34m'bar'\u001b[0m\u001b[0;34m)\u001b[0m\u001b[0;34m\u001b[0m\u001b[0m\n\u001b[0m",
      "\u001b[0;32m/home/vicky/miniconda3/envs/share_tutorials/lib/python3.5/site-packages/pandas/tools/plotting.py\u001b[0m in \u001b[0;36m__call__\u001b[0;34m(self, x, y, kind, ax, subplots, sharex, sharey, layout, figsize, use_index, title, grid, legend, style, logx, logy, loglog, xticks, yticks, xlim, ylim, rot, fontsize, colormap, table, yerr, xerr, secondary_y, sort_columns, **kwds)\u001b[0m\n\u001b[1;32m   3738\u001b[0m                           \u001b[0mfontsize\u001b[0m\u001b[0;34m=\u001b[0m\u001b[0mfontsize\u001b[0m\u001b[0;34m,\u001b[0m \u001b[0mcolormap\u001b[0m\u001b[0;34m=\u001b[0m\u001b[0mcolormap\u001b[0m\u001b[0;34m,\u001b[0m \u001b[0mtable\u001b[0m\u001b[0;34m=\u001b[0m\u001b[0mtable\u001b[0m\u001b[0;34m,\u001b[0m\u001b[0;34m\u001b[0m\u001b[0m\n\u001b[1;32m   3739\u001b[0m                           \u001b[0myerr\u001b[0m\u001b[0;34m=\u001b[0m\u001b[0myerr\u001b[0m\u001b[0;34m,\u001b[0m \u001b[0mxerr\u001b[0m\u001b[0;34m=\u001b[0m\u001b[0mxerr\u001b[0m\u001b[0;34m,\u001b[0m \u001b[0msecondary_y\u001b[0m\u001b[0;34m=\u001b[0m\u001b[0msecondary_y\u001b[0m\u001b[0;34m,\u001b[0m\u001b[0;34m\u001b[0m\u001b[0m\n\u001b[0;32m-> 3740\u001b[0;31m                           sort_columns=sort_columns, **kwds)\n\u001b[0m\u001b[1;32m   3741\u001b[0m     \u001b[0m__call__\u001b[0m\u001b[0;34m.\u001b[0m\u001b[0m__doc__\u001b[0m \u001b[0;34m=\u001b[0m \u001b[0mplot_frame\u001b[0m\u001b[0;34m.\u001b[0m\u001b[0m__doc__\u001b[0m\u001b[0;34m\u001b[0m\u001b[0m\n\u001b[1;32m   3742\u001b[0m \u001b[0;34m\u001b[0m\u001b[0m\n",
      "\u001b[0;32m/home/vicky/miniconda3/envs/share_tutorials/lib/python3.5/site-packages/pandas/tools/plotting.py\u001b[0m in \u001b[0;36mplot_frame\u001b[0;34m(data, x, y, kind, ax, subplots, sharex, sharey, layout, figsize, use_index, title, grid, legend, style, logx, logy, loglog, xticks, yticks, xlim, ylim, rot, fontsize, colormap, table, yerr, xerr, secondary_y, sort_columns, **kwds)\u001b[0m\n\u001b[1;32m   2612\u001b[0m                  \u001b[0myerr\u001b[0m\u001b[0;34m=\u001b[0m\u001b[0myerr\u001b[0m\u001b[0;34m,\u001b[0m \u001b[0mxerr\u001b[0m\u001b[0;34m=\u001b[0m\u001b[0mxerr\u001b[0m\u001b[0;34m,\u001b[0m\u001b[0;34m\u001b[0m\u001b[0m\n\u001b[1;32m   2613\u001b[0m                  \u001b[0msecondary_y\u001b[0m\u001b[0;34m=\u001b[0m\u001b[0msecondary_y\u001b[0m\u001b[0;34m,\u001b[0m \u001b[0msort_columns\u001b[0m\u001b[0;34m=\u001b[0m\u001b[0msort_columns\u001b[0m\u001b[0;34m,\u001b[0m\u001b[0;34m\u001b[0m\u001b[0m\n\u001b[0;32m-> 2614\u001b[0;31m                  **kwds)\n\u001b[0m\u001b[1;32m   2615\u001b[0m \u001b[0;34m\u001b[0m\u001b[0m\n\u001b[1;32m   2616\u001b[0m \u001b[0;34m\u001b[0m\u001b[0m\n",
      "\u001b[0;32m/home/vicky/miniconda3/envs/share_tutorials/lib/python3.5/site-packages/pandas/tools/plotting.py\u001b[0m in \u001b[0;36m_plot\u001b[0;34m(data, x, y, subplots, ax, kind, **kwds)\u001b[0m\n\u001b[1;32m   2439\u001b[0m         \u001b[0mplot_obj\u001b[0m \u001b[0;34m=\u001b[0m \u001b[0mklass\u001b[0m\u001b[0;34m(\u001b[0m\u001b[0mdata\u001b[0m\u001b[0;34m,\u001b[0m \u001b[0msubplots\u001b[0m\u001b[0;34m=\u001b[0m\u001b[0msubplots\u001b[0m\u001b[0;34m,\u001b[0m \u001b[0max\u001b[0m\u001b[0;34m=\u001b[0m\u001b[0max\u001b[0m\u001b[0;34m,\u001b[0m \u001b[0mkind\u001b[0m\u001b[0;34m=\u001b[0m\u001b[0mkind\u001b[0m\u001b[0;34m,\u001b[0m \u001b[0;34m**\u001b[0m\u001b[0mkwds\u001b[0m\u001b[0;34m)\u001b[0m\u001b[0;34m\u001b[0m\u001b[0m\n\u001b[1;32m   2440\u001b[0m \u001b[0;34m\u001b[0m\u001b[0m\n\u001b[0;32m-> 2441\u001b[0;31m     \u001b[0mplot_obj\u001b[0m\u001b[0;34m.\u001b[0m\u001b[0mgenerate\u001b[0m\u001b[0;34m(\u001b[0m\u001b[0;34m)\u001b[0m\u001b[0;34m\u001b[0m\u001b[0m\n\u001b[0m\u001b[1;32m   2442\u001b[0m     \u001b[0mplot_obj\u001b[0m\u001b[0;34m.\u001b[0m\u001b[0mdraw\u001b[0m\u001b[0;34m(\u001b[0m\u001b[0;34m)\u001b[0m\u001b[0;34m\u001b[0m\u001b[0m\n\u001b[1;32m   2443\u001b[0m     \u001b[0;32mreturn\u001b[0m \u001b[0mplot_obj\u001b[0m\u001b[0;34m.\u001b[0m\u001b[0mresult\u001b[0m\u001b[0;34m\u001b[0m\u001b[0m\n",
      "\u001b[0;32m/home/vicky/miniconda3/envs/share_tutorials/lib/python3.5/site-packages/pandas/tools/plotting.py\u001b[0m in \u001b[0;36mgenerate\u001b[0;34m(self)\u001b[0m\n\u001b[1;32m   1024\u001b[0m     \u001b[0;32mdef\u001b[0m \u001b[0mgenerate\u001b[0m\u001b[0;34m(\u001b[0m\u001b[0mself\u001b[0m\u001b[0;34m)\u001b[0m\u001b[0;34m:\u001b[0m\u001b[0;34m\u001b[0m\u001b[0m\n\u001b[1;32m   1025\u001b[0m         \u001b[0mself\u001b[0m\u001b[0;34m.\u001b[0m\u001b[0m_args_adjust\u001b[0m\u001b[0;34m(\u001b[0m\u001b[0;34m)\u001b[0m\u001b[0;34m\u001b[0m\u001b[0m\n\u001b[0;32m-> 1026\u001b[0;31m         \u001b[0mself\u001b[0m\u001b[0;34m.\u001b[0m\u001b[0m_compute_plot_data\u001b[0m\u001b[0;34m(\u001b[0m\u001b[0;34m)\u001b[0m\u001b[0;34m\u001b[0m\u001b[0m\n\u001b[0m\u001b[1;32m   1027\u001b[0m         \u001b[0mself\u001b[0m\u001b[0;34m.\u001b[0m\u001b[0m_setup_subplots\u001b[0m\u001b[0;34m(\u001b[0m\u001b[0;34m)\u001b[0m\u001b[0;34m\u001b[0m\u001b[0m\n\u001b[1;32m   1028\u001b[0m         \u001b[0mself\u001b[0m\u001b[0;34m.\u001b[0m\u001b[0m_make_plot\u001b[0m\u001b[0;34m(\u001b[0m\u001b[0;34m)\u001b[0m\u001b[0;34m\u001b[0m\u001b[0m\n",
      "\u001b[0;32m/home/vicky/miniconda3/envs/share_tutorials/lib/python3.5/site-packages/pandas/tools/plotting.py\u001b[0m in \u001b[0;36m_compute_plot_data\u001b[0;34m(self)\u001b[0m\n\u001b[1;32m   1133\u001b[0m         \u001b[0;32mif\u001b[0m \u001b[0mis_empty\u001b[0m\u001b[0;34m:\u001b[0m\u001b[0;34m\u001b[0m\u001b[0m\n\u001b[1;32m   1134\u001b[0m             raise TypeError('Empty {0!r}: no numeric data to '\n\u001b[0;32m-> 1135\u001b[0;31m                             'plot'.format(numeric_data.__class__.__name__))\n\u001b[0m\u001b[1;32m   1136\u001b[0m \u001b[0;34m\u001b[0m\u001b[0m\n\u001b[1;32m   1137\u001b[0m         \u001b[0mself\u001b[0m\u001b[0;34m.\u001b[0m\u001b[0mdata\u001b[0m \u001b[0;34m=\u001b[0m \u001b[0mnumeric_data\u001b[0m\u001b[0;34m\u001b[0m\u001b[0m\n",
      "\u001b[0;31mTypeError\u001b[0m: Empty 'DataFrame': no numeric data to plot"
     ]
    }
   ],
   "source": [
    "# from the SHAREPA library, we import this function to transform a bucket into a dataframe so we can plot it!\n",
    "from sharepa import bucket_to_dataframe\n",
    "\n",
    "# creating a new search! \n",
    "all_results = ShareSearch()\n",
    "\n",
    "# creating our search query!\n",
    "all_results = all_results.query(\n",
    "    'query_string', # Type of query, will accept a lucene query string\n",
    "    query='*', # This lucene query string will find all documents that don't have tags\n",
    "    analyze_wildcard=True  # This will make elasticsearch pay attention to the asterisk (which matches anything)\n",
    ")\n",
    "\n",
    "# Lucene supports fielded data. When performing a search you can either specify a field, or use the default field. \n",
    "all_results.aggs.bucket(\n",
    "    'sources',  # Every aggregation needs a name\n",
    "    'terms',  # There are many kinds of aggregations, terms is a pretty useful one though\n",
    "    field='sources',  # We store the source of a document in its type, so this will aggregate by source\n",
    "    size=0,  # These are just to make sure we get numbers for all the sources, to make it easier to combine graphs\n",
    "    min_doc_count=0\n",
    ")\n",
    "\n",
    "# this executes our search!\n",
    "all_results = all_results.execute()\n",
    "\n",
    "# this uses that function we imported above to transform our aggregated search into a dataframe so we can plot it!\n",
    "all_results_frame = bucket_to_dataframe('# documents by source', all_results.aggregations.sources.buckets)\n",
    "\n",
    "# this sorts the dataframe by the number of documents by source (descending order)\n",
    "all_results_frame_sorted = all_results_frame.sort(ascending=False,  columns='# documents by source')\n",
    "\n",
    "# this creates a bar chart that displays the first 30 results \n",
    "all_results_frame_sorted[:30].plot(kind='bar')"
   ]
  },
  {
   "cell_type": "markdown",
   "metadata": {},
   "source": [
    "We can choose different types of plots to generate. Here, we'll make a pie chart of the data sources with the top 10 most results."
   ]
  },
  {
   "cell_type": "code",
   "execution_count": null,
   "metadata": {
    "collapsed": false
   },
   "outputs": [],
   "source": [
    "# Creating a pie graph using the first 10 items in the data frame with no legend\n",
    "all_results_frame_sorted[:10].plot(kind='pie', y=\"# documents by source\", legend=False)"
   ]
  },
  {
   "cell_type": "code",
   "execution_count": null,
   "metadata": {
    "collapsed": true
   },
   "outputs": [],
   "source": []
  }
 ],
 "metadata": {
  "kernelspec": {
   "display_name": "Python 3",
   "language": "python",
   "name": "python3"
  },
  "language_info": {
   "codemirror_mode": {
    "name": "ipython",
    "version": 3
   },
   "file_extension": ".py",
   "mimetype": "text/x-python",
   "name": "python",
   "nbconvert_exporter": "python",
   "pygments_lexer": "ipython3",
   "version": "3.5.2"
  }
 },
 "nbformat": 4,
 "nbformat_minor": 0
}
